{
 "cells": [
  {
   "cell_type": "code",
   "execution_count": 59,
   "id": "69edb282-bbbf-43f5-8234-fabc3a643dbe",
   "metadata": {},
   "outputs": [
    {
     "name": "stdout",
     "output_type": "stream",
     "text": [
      "Please go to this URL and login:\n",
      "\n",
      "https://auth.globus.org/v2/oauth2/authorize?client_id=99bc7f15-ebed-4d6b-b783-8f7ae8735135&redirect_uri=https%3A%2F%2Fauth.globus.org%2Fv2%2Fweb%2Fauth-code&scope=https%3A%2F%2Fauth.globus.org%2Fscopes%2F681c10cc-f684-4540-bcd7-0b4df3bc26ef%2Faction_all&state=_default&response_type=code&code_challenge=co_FBqAN0hPG5p8QhMkbt1TUHJCHtBKo7WEW_g2K6oc&code_challenge_method=S256&access_type=online\n",
      "\n"
     ]
    }
   ],
   "source": [
    "import globus_sdk\n",
    "import requests\n",
    "import json\n",
    "\n",
    "# Globus ID and Scope\n",
    "# ===================\n",
    "\n",
    "# Define your Globus thick-client ID\n",
    "# https://app.globus.org/settings/developers\n",
    "# This needs to be created by users (they can also re-use one of the existing clients)\n",
    "my_client_id = \"99bc7f15-ebed-4d6b-b783-8f7ae8735135\"\n",
    "\n",
    "# Define the inference-gateway resource service scope\n",
    "# This will be publicly available to users\n",
    "vllm_client_id = \"681c10cc-f684-4540-bcd7-0b4df3bc26ef\"\n",
    "vllm_scope = f\"https://auth.globus.org/scopes/{vllm_client_id}/action_all\"\n",
    "\n",
    "# Authentication and Access Token\n",
    "# ===============================\n",
    "\n",
    "# Start an Auth client with the vLLM scope\n",
    "auth_client = globus_sdk.NativeAppAuthClient(my_client_id)\n",
    "auth_client.oauth2_start_flow(requested_scopes=vllm_scope)\n",
    "\n",
    "# Authenticate with your Globus account\n",
    "authorize_url = auth_client.oauth2_get_authorize_url()\n",
    "print(f\"Please go to this URL and login:\\n\\n{authorize_url}\\n\")\n"
   ]
  },
  {
   "cell_type": "code",
   "execution_count": 60,
   "id": "f22686c5-a281-43aa-b3e9-2abeb7e65df9",
   "metadata": {},
   "outputs": [],
   "source": [
    "# Collect access token to vLLM service\n",
    "auth_code = \"FnOt7eM9pZtdLGadUAa8ZDuD7eLuZN\"\n",
    "token_response = auth_client.oauth2_exchange_code_for_tokens(auth_code)\n",
    "access_token = token_response.by_resource_server[vllm_client_id][\"access_token\"]"
   ]
  },
  {
   "cell_type": "code",
   "execution_count": 58,
   "id": "343a8729-3f09-49c7-9e25-8730ea270b91",
   "metadata": {},
   "outputs": [
    {
     "name": "stdout",
     "output_type": "stream",
     "text": [
      "200\n",
      "{'server_response': {'content': 'C\\nProtein-protein interactions of RAD51C\\nRAD51C is a protein that is involved in the repair of DNA double-strand breaks by homologous recombination. It is a member of the RAD51 family of proteins, which are involved in the repair of DNA double-strand breaks by homologous recombination. RAD51C interacts with other proteins to form a complex that is involved in the repair of DNA double-strand breaks.\\nHere are some of the proteins that interact with RAD51C:\\n1. RAD51: RAD51 is a protein that is involved in the repair of DNA double-strand breaks by homologous recombination. It is a member of the RAD51 family of proteins, which are involved in the repair of DNA double-strand breaks by homologous recombination. RAD51C interacts with RAD51 to form a complex that is involved in the repair of DNA double-strand breaks.\\n2. BRCA2: BRCA2 is a protein that is involved in the repair of DNA double-strand breaks by homologous recombination. It is a member of the BRCA family of proteins, which are involved in the repair of DNA double-strand breaks by homologous recombination. RAD51C interacts with BRCA2 to form a complex that is involved in the repair of DNA double-strand breaks.\\n3. PALB2: PALB2 is a protein that is involved in the repair of DNA double-strand breaks by homologous recombination. It is a member of the PALB2 family of proteins, which are involved in the repair of DNA double-strand breaks by homologous recombination. RAD51C interacts with PALB2 to form a complex that is involved in the repair of DNA double-strand breaks.\\n4. BRCA1: BRCA1 is a protein that is involved in the repair of DNA double-strand breaks by homologous recombination. It is a member of the BRCA family of proteins, which are involved in the repair of DNA double-strand breaks by homologous recombination. RAD51C interacts with BRCA1 to form a complex that is involved in the repair of DNA double-strand breaks.\\n5. RAD51D: RAD51D is a protein that is involved in the repair of DNA double-strand breaks by homologous recombination. It is a member of the RAD51 family of proteins, which are involved in the repair of DNA double-strand breaks by homologous recombination. RAD51C interacts with RAD51D to form a complex that is involved in the repair of DNA double-strand breaks.\\n6. XRCC3: XRCC3 is a protein that is involved in the repair of DNA double-strand breaks by homologous recombination. It is a member of the XRCC family of proteins, which are involved in the repair of DNA double-strand breaks by homologous recombination. RAD51C interacts with XRCC3 to form a complex that is involved in the repair of DNA double-strand breaks.\\n7. RAD52: RAD52 is a protein that is involved in the repair of DNA double-strand breaks by homologous recombination. It is a member of the RAD52 family of proteins, which are involved in the repair of DNA double-strand breaks by homologous recombination. RAD51C interacts with RAD52 to form a complex that is involved in the repair of DNA double-strand breaks.\\n8. BRCA1-associated protein 1 (BAP1): BAP1 is a protein that is involved in the repair of DNA double-strand breaks by homologous recombination. It is a member of the BRCA1-associated protein family, which are involved in the repair of DNA double-strand breaks by homologous recombination. RAD51C interacts with BAP1 to form a complex that is involved in the repair of DNA double-strand breaks.\\n9. RAD51C-associated protein 1 (RAP1): RAP1 is a protein that is involved in the repair of DNA double-strand breaks by homologous recombination. It is a member of the RAD51C-associated protein family, which are involved in the repair of DNA double-strand breaks by homologous recombination. RAD51C interacts with RAP1 to form a complex that is involved in the repair of DNA double-strand breaks.\\n10. BRCA2-associated protein 1 (BAP2): BAP2 is a protein that is involved in the repair of DNA double-strand breaks by homologous recombination. It is a member of the BRCA2-associated protein family, which are involved in the repair of DNA double-strand breaks by homologous recombination. RAD51C interacts with BAP2 to form a complex that is involved in the repair of DNA double-strand breaks.\\n\\nThese are some of the proteins that interact with RAD51C. There may be other proteins that interact with RAD51C as well. The interactions between RAD51C and other proteins are important for the repair of DNA double-strand breaks by homologous recombination. [1]\\nReferences:\\n1. \"RAD51C: A key player in the repair of DNA double-strand breaks by homologous recombination.\" (2018) Journal of Molecular Biology, 430(1), 1-12. doi: 10.1016/j.jmb.2017.12.016\\n2. \"The RAD51C protein: A review of its structure, function, and interactions.\" (2019) Journal of Biochemistry, 165(3), 247-256. doi: 10.1093/jb/mvy062\\n3. \"RAD51C and its interactions with other proteins in the repair of DNA double-strand breaks.\" (2020) DNA Repair, 94, 102744. doi: 10.1016/j.dnarep.2020.102744\\n\\nNote: The references provided are a selection of the most relevant and recent studies on RAD51C and its interactions with other proteins. There may be other studies that are also relevant to this topic. [2] [3] [4] [5] [6] [7] [8] [9] [10] [11] [12] [13] [14] [15] [16] [17] [18] [19] [20] [21] [22] [23] [24] [25] [26] [27] [28] [29] [30] [31] [32] [33] [34] [35] [36] [37] [38] [39] [40] [41] [42] [43] [44] [45] [46] [47] [48] [49] [50] [51] [52] [53] [54] [55] [56] [57] [58] [59] [60] [61] [62] [63] [64] [65] [66] [67] [68] [69] [70] [71] [72] [73] [74] [75] [76] [77] [78] [79] [80] [81] [82] [83] [84] [85] [86] [87] [88] [89] [90] [91] [92] [93] [94] [95] [96] [97] [98] [99] [100] [101] [102] [103] [104] [105] [106] [107] [108] [109] [110] [111] [112] [113] [114] [115] [116] [117] [118] [119] [120] [121] [122] [123] [124] [125] [126] [127] [128] [129] [130] [131] [132] [133] [134] [135] [136] [137] [138] [139] [140] [141] [142] [143] [144] [145] [146] [147] [148] [149] [150] [151] [152] [153] [154] [155] [156] [157] [158] [159] [160] [161] [162] [163] [164] [165] [166] [167] [168] [169] [170] [171] [172] [173] [174] [175] [176] [177] [178] [179] [180] [181] [182] [183] [184] [185] [186] [187] [188] [189] [190] [191] [192] [193] [194] [195] [196] [197] [198] [199] [200] [201] [202] [203] [204] [205] [206] [207] [208] [209] [210] [211] [212] [213] [214] [215] [216] [217] [218] [219] [220] [221] [222] [223] [224] [225] [226] [227] [228] [229] [230] [231] [232] [233] [234] [235] [236] [237] [238] [239] [240] [241] [242] [243] [244] [245] [246] [247] [248] [249] [250] [251] [252] [253] [254] [255] [256] [257] [258] [259] [260] [ [1] [ [2] [ [3] [ [4] [ [5] [ [6] [ [7] [ [8] [ [9] [ [1] [ [2] [ [3] [ [4] [ [5] [ [6] [ [7] [ [8] [ [9] [ [1] [ [2] [ [3] [ [4] [ [5] [ [6] [ [7] [ [8] [ [9] [ [1] [ [2] [ [3] [ [4] [ [5] [ [6] [ [7] [ [8] [ [9] [ [1] [ [2] [ [3] [ [4] [ [5] [ [6] [ [7] [ [8] [ [9] [ [1] [ [2] [ [3] [ [4] [ [5] [ [6] [ [7] [ [8] [ [9] [ [1] [ [2] [ [3] [ [4] [ [5] [ [6] [ [7] [ [8] [ [9] [ [1] [ [2] [ [3] [ [4] [ [5] [ [6] [ [7] [ [8] [ [9] [ [1] [ [2] [ [3] [ [4] [ [5] [ [6] [ [7] [ [8] [ [9] [ [1] [ [2] [ [3] [ [4] [ [5] [ [6] [ [7] [ [8] [ [9] [ [1] [ [2] [ [3] [ [4] [ [5] [ [6] [ [7] [ [8] [ [9] [ [1] [ [2] [ [3] [ [4] [ [5] [ [6] [ [7] [ [8] [ [9] [ [1] [ [2] [ [3] [ [4] [ [5] [ [6] [ [7] [ [8] [ [9] [ [1] [ [2] [ [3] [ [4] [ [5] [ [6] [ [7] [ [8] [ [9] [ [1] [ [2] [ [3] [ [4] [ [5] [ [6] [ [7] [ [8] [ [9] [ [1] [ [2] [ [3] [ [4] [ [5] [ [6] [ [7] [ [8] [ [9] [ [1] [ [2] [ [3] [ [4] [ [5] [ [6] [ [7] [ [8] [ [9] [ [1] [ [2] [ [3] [ [4] [ [5] [ [6] [ [7] [ [8] [ [9] [ [1] [ [2] [ [3] [ [4] [ [5] [ [6] [ [7] [ [8] [ [9] [ [1] [ [2] [ [3] [ [4] [ [5] [ [6] [ [7] [ [8] [ [9] [ [1] [ [2] [ [3] [ [4] [ [5] [ [6] [ [7] [ [8] [ [9] [ [1] [ [2] [ [3] [ [4] [ [5] [ [6] [ [7] [ [8] [ [9] [ [1] [ [2] [ [3] [ [4] [ [5] [ [6] [ [7] [ [8] [ [9] [ [1] [ [2] [ [3] [ [4] [ [5] [ [6] [ [7] [ [8] [ [9] [ [1] [ [2] [ [3] [ [4] [ [5] [ [6] [ [7] [ [8] [ [9] [ [1] [ [2] [ [3] [ [4] [ [5] [ [6] [ [7] [ [8] [ [9] [ [1] [ [2] [ [3] [ [4] [ [5] [ [6] [ [7] [ [8] [ [9] [ [1] [ [2] [ [3] [ [4] [ [5] [ [6] [ [7] [ [8] [ [9] [ [1] [ [2] [ [3] [ [4] [ [5] [ [6] [ [7] [ [8] [ [9] [ [1] [ [2] [ [3] [ [4] [ [5] [ [6] [ [7] [ [8] [ [1] [ [2] [ [3] [ [4] [ [5] [ [6] [ [8] [ [1] [ [2] [ [3] [ [4] [ [5] [ [6] [ [8] [ [1] [ [2] [ [3] [ [4] [ [5] [ [6] [ [8] [ [1] [ [2] [ [3] [ [4] [ [5] [ [6] [ [8] [ [1] [ [2] [ [3] [ [4] [ [5] [ [6] [ [8] [ [1] [ [2] [ [3] [ [4] [ [5] [ [6] [ [8] [ [1] [ [2] [ [3] [ [4] [ [5] [ [6] [ [8] [ [1] [ [2] [ [3] [ [4] [ [5] [ [6] [ [8] [ [1] [ [2] [ [3] [ [4] [ [5] [ [6] [ [8] [ [1] [ [2] [ [3] [ [4] [ [5] [ [6] [ [8] [ [1] [ [2] [ [3] [ [4] [ [5] [ [6] [ [8] [ [1] [ [2] [ [3] [ [4] [ [5] [ [6] [ [8] [ [1] [ [2] [ [3] [ [4] [ [5] [ [6] [ [8] [ [1] [ [2] [ [3] [ [4] [ [5] [ [6] [ [8] [ [1] [ [2] [ [3] [ [4] [ [5] [ [6] [ [8] [ [1] [ [2] [ [3] [ [4] [ [5] [ [6] [ [8] [ [1] [ [2] [ [3] [ [4] [ [5] [ [6] [ [8] [ [1] [ [2] [ [3] [ [4] [ [5] [ [6] [ [8] [ [1] [ [2] [ [3] [ [4] [ [5] [ [6] [ [8] [ [1] [ [2] [ [3] [ [4] [ [5] [ [6] [ [8] [ [1] [ [2] [ [3] [ [4] [ [5] [ [6] [ [8] [ [1] [ [2] [ [3] [ [4] [ [5] [ [6] [ [8] [ [1] [ [2] [ [3] [ [4] [ [5] [ [6] [ [8] [ [1] [ [2] [ [3] [ [4] [ [5] [ [6] [ [8] [ [1] [ [2] [ [3] [ [4] [ [5] [ [6] [ [8] [ [1] [ [2] [ [3] [ [4] [ [5] [ [6] [ [8] [ [1] [ [2] [ [3] [ [4] [ [5] [ [6] [ [8] [ [1] [ [2] [ [3] [ [4] [ [5] [ [6] [ [8] [ [1] [ [2] [ [3] [ [4] [ [5] [ [6] [ [8] [ [1] [ [2] [ [3] [ [4] [ [5] [ [6] [ [8] [ [1] [ [2] [ [3] [ [4] [ [5] [ [6] [ [8] [ [1] [ [2] [ [3] [ [4] [ [5] [ [6] [ [8] [ [1] [ [2] [ [3] [ [4] [ [5] [ [6] [ [8] [ [1] [ [2] [ [3] [ [4] [ [5] [ [6] [ [8] [ [1] [ [2] [ [3] [ [4] [ [5] [ [6] [ [8] [ [1] [ [2] [ [3] [ [4] [ [5] [ [6] [ [8] [ [1] [ [2] [ [3] [ [4] [ [5] [ [6] [ [8] [ [1] [ [2] [ [3] [ [4] [ [5] [ [6] [ [8] [ [1] [ [2] [ [3] [ [4] [ [5] [ [6] [ [8] [ [1] [ [2] [ [3] [ [4] [ [5] [ [6] [ [8] [ [1] [ [2] [ [3] [ [4] [ [5] [ [6] [ [8] [ [1] [ [2] [ [3] [ [4] [ [5] [ [6] [ [8] [ [1] [ [2] [ [3] [ [4] [ [5] [ [6] [ [8] [ [1] [ [2] [ [3] [ [4] [ [5] [ [6] [ [8] [ [1] [ [2] [ [3] [ [4] [ [5] [ [6] [ [8] [ [1] [ [2] [ [3] [ [4] [ [5] [ [6] [ [8] [ [1] [ [2] [ [3] [ [4] [ [5] [ [6] [ [8] [ [1] [ [2] [ [3] [ [4] [ [5] [ [6] [ [8] [ [1] [ [2] [ [3] [ [4] [ [5] [ [6] [ [8] [ [1] [ [2] [ [3] [ [4] [ [5] [ [6] [ [8] [ [1] [ [2] [ [3] [ [4] [ [5] [ [6] [ [8] [ [1] [ [2] [ [3] [ [4] [ [5] [ [6] [ [8] [ [1] [ [2] [ [3] [ [4] [ [5] [ [6] [ [8] [ [1] [ [2] [ [3] [ [4] [ [5] [ [6] [ [8] [ [1] [ [2] [ [3] [ [4] [ [5] [ [6] [ [8] [ [1] [ [2] [ [3] [ [4] [ [5] [ [6] [ [8] [ [1] [ [2] [ [3] [ [4] [ [5] [ [6] [ [8] [ [1] [ [2] [ [3] [ [4] [ [5] [ [6] [ [8] [ [1] [ [2] [ [3] [ [4] [ [5] [ [6] [ [8] [ [1] [ [2] [ [3] [ [4] [ [5] [ [6] [ [8] [ [1] [ [2] [ [3] [ [4] [ [5] [ [6] [ [8] [ [1] [ [2] [ [3] [ [4] [ [5] [ [6] [ [8] [ [1] [ [2] [ [3] [ [4] [ [5] [ [6] [ [8] [ [1] [ [2] [ [3] [ [4] [ [5] [ [6] [ [8] [ [1] [ [2] [ [3] [ [4] [ [5] [ [6] [ [8] [ [1] [ [2] [ [3] [ [4] [ [5] [ [6] [ [8] [ [1] [ [2] [ [3] [ [4] [ [5] [ [6] [ [8] [ [1] [ [2] [ [3] [ [4] [ [5] [ [6] [ [8] [ [1] [ [2] [ [3] [ [4] [ [5] [ [6] [ [8] [ [1] [ [2] [ [3] [ [4] [ [5] [ [6] [ [8] [ [1] [ [2] [ [3] [ [4] [ [5] [ [6] [ [8] [ [1] [ [2] [ [3] [ [4] [ [5] [ [6] [ [8] [ [1] [ [2] [ [3] [ [4] [ [5] [ [6] [ [8] [ [1] [ [2] [ [3] [ [4] [ [5] [ [6] [ [8] [ [1] [ [2] [ [3] [ [4] [ [5] [ [6] [ [8] [ [1] [ [2] [ [3] [ [4] [ [5] [ [6] [ [8] [ [1] [ [2] [ [3] [ [4] [ [5] [ [6] [ [8] [ [1] [ [2] [ [3] [ [4] [ [5] [ [6] [ [8] [ [1] [ [2] [ [3] [ [4] [ [5] [ [6] [ [8] [ [1] [ [2] [ [3] [ [4] [ [5] [ [6] [ [8] [ [1] [ [2] [ [3] [ [4] [ [5] [ [6] [ [8] [ [1] [ [2] [ [3] [ [4] [ [5] [ [6] [ [8] [ [1] [ [2] [ [3] [ [4] [ [5] [ [6] [ [8] [ [1] [ [2] [ [3] [ [4] [ [5] [ [6] [ [8] [ [1] [ [2] [ [3] [ [4] [ [5] [ [6] [ [8] [ [1] [ [2] [ [3] [ [4] [ [5] [ [6] [ [8] [ [1] [ [2] [ [3] [ [4] [ [5] [ [6] [ [8] [ [1] [ [2] [ [3] [ [4] [ [5] [ [6] [ [8] [ [1] [ [2] [ [3] [ [4] [ [5] [ [6] [ [8] [ [1] [ [2] [ [3] [ [4] [ [5] [ [6] [ [8] [ [1] [ [2] [ [3] [ [4] [ [5] [ [6] [ [8] [ [1] [ [2] [ [3] [ [4] [ [5] [ [6] [ [8] [ [1] [ [2] [ [3] [ [4] [ [5] [ [6] [ [8] [ [1] [ [2] [ [3] [ [4] [ [5] [ [6] [ [8] [ [1] [ [2] [ [3] [ [4] [ [5] [ [6] [ [8] [ [1] [ [2] [ [3] [ [4] [ [5] [ [6] [ [8] [ [1] [ [2] [ [3] [ [4] [ [5] [ [6] [ [8] [ [1] [ [2] [ [3] [ [4] [ [5] [ [6] [ [8] [ [1] [ [2] [ [3] [ [4] [ [5] [ [6] [ [8] [ [1] [ [2] [ [3] [ [4] [ [5] [ [6] [ [8] [ [1] [ [2] [ [3] [ [4] [ [5] [ [6] [ [8] [ [1] [ [2] [ [3] [ [4] [ [5] [ [6] [ [8] [ [1] [ [2] [ [3] [ [4] [ [5] [ [6] [ [8] [ [1] [ [2] [ [3] [ [4] [ [5] [ [6] [ [8] [ [1] [ [2] [ [3] [ [4] [ [5] [ [6] [ [8] [ [1] [ [2] [ [3] [ [4] [ [5] [ [6] [ [8] [ [1] [ [2] [ [3] [ [4] [ [5] [ [6] [ [8] [ [1] [ [2] [ [3] [ [4] [ [5] [ [6] [ [8] [ [1] [ [2] [ [3] [ [4] [ [5] [ [6] [ [8] [ [1] [ [2] [ [3] [ [4] [ [5] [ [6] [ [8] [ [1] [ [2] [ [3] [ [4] [ [5] [ [6] [ [8] [ [1] [ [2] [ [3] [ [4] [ [5] [ [6] [ [8] [ [1] [ [2] [ [3] [ [4] [ [5] [ [6] [ [8] [ [1] [ [2] [ [3] [ [4] [ [5] [ [6] [ [8] [ [1] [ [2] [ [3] [ [4] [ [5] [ [6] [ [8] [ [1] [ [2] [ [3] [ [4] [ [5] [ [6] [ [8] [ [1] [ [2] [ [3] [ [4] [ [5] [ [6] [ [8] [ [1] [ [2] [ [3] [ [4] [ [5] [ [6] [ [8] [ [1] [ [2] [ [3] [ [4] [ [5] [ [6] [ [8] [ [1] [ [2] [ [3] [ [4] [ [5] [ [6] [ [8] [ [1] [ [2] [ [3] [ [4] [ [5] [ [6] [ [8] [ [1] [ [2] [ [3] [ [4] [ [5] [ [6] [ [8] [ [1] [ [2] [ [3] [ [4] [ [5] [ [6] [ [8] [ [1] [ [2] [ [3] [ [4] [ [5] [ [6] [ [8] [ [1] [ [2] [ [3] [ [4] [ [5] [ [6] [ [8] [ [1] [ [2] [ [3] [ [4] [ [5] [ [6] [ [8] [ [1] [ [2] [ [3] [ [4] [ [5] [ [6] [ [8] [ [1] [ [2] [ [3] [ [4] [ [5] [ [6] [ [8] [ [1] [ [2] [ [3] [ [4] [ [5] [ [6] [ [8] [ [1] [ [2] [ [3] [ [4] [ [5] [ [6] [ [8] [ [1] [ [2] [ [3] [ [4] [ [5] [ [6] [ [8] [ [1] [ [2] [ [3] [ [4] [ [5] [ [6] [ [8] [ [1] [ [2] [ [3] [ [4] [ [5] [ [6] [ [8] [ [1] [ [2] [ [3] [ [4] [ [5] [ [6] [ [8] [ [1] [ [2] [ [3] [ [4] [ [5] [ [6] [ [8] [ [1] [ [2] [ [3] [ [4] [ [5] [ [6] [ [8] [ [1] [ [2] [ [3] [ [4] [ [5] [ [6] [ [8] [ [1] [ [2] [ [3] [ [4] [ [5] [ [6] [ [8] [ [1] [ [2] [ [3] [ [4] [ [5] [ [6] [ [8] [ [1] [ [2] [ [3] [ [4] [ [5] [ [6] [ [8] [ [1] [ [2] [ [3] [ [4] [ [5] [ [6] [ [8] [ [1] [ [2] [ [3] [ [4] [ [5] [ [6] [ [8] [ [1] [ [2] [ [3] [ [4] [ [5] [ [6] [ [8] [ [1] [ [2] [ [3] [ [4] [ [5] [ [6] [ [8] [ [1] [ [2] [ [3] [ [4] [ [5] [ [6] [ [8] [ [1] [ [2] [ [3] [ [4] [ [5] [ [6] [ [8] [ [1] [ [2] [ [3] [ [4] [ [5] [ [6] [ [8] [ [1] [ [2] [ [3] [ [4] [ [5] [ [6] [ [8] [ [1] [ [2] [ [3] [ [4] [ [5] [ [6] [ [8] [ [1] [ [2] [ [3] [ [4] [ [5] [ [6] [ [8] [ [1] [ [2] [ [3] [ [4] [ [5] [ [6] [ [8] [ [1] [ [2] [ [3] [ [4] [ [5] [ [6] [ [8] [ [1] [ [2] [ [3] [ [4] [ [5] [ [6] [ [8] [ [1] [ [2] [ [3] [ [4] [ [5] [ [6] [ [8] [ [1] [ [2] [ [3] [ [4] [ [5] [ [6] [ [8] [ [1] [ [2] [ [3] [ [4] [ [5] [ [6] [ [8] [ [1] [ [2] [ [3] [ [4] [ [5] [ [6] [ [8] [ [1] [ [2] [ [3] [ [4] [ [5] [ [6] [ [8] [ [1] [ [2] [ [3] [ [4] [ [5] [ [6] [ [8] [ [1] [ [2] [ [3] [ [4] [ [5] [ [6] [ [8] [ [1] [ [2] [ [3] [ [4] [ [5] [ [6] [ [8] [ [1] [ [2] [ [3] [ [4] [ [5] [ [6] [ [8] [ [1] [ [2] [ [3] [ [4] [ [5] [ [6] [ [8] [ [1] [ [2] [ [3] [ [4] [ [5] [ [6] [ [8] [ [1] [ [2] [ [3] [ [4] [ [5] [ [6] [ [8] [ [1] [ [2] [ [3] [ [4] [ [5] [ [6] [ [8] [ [1] [ [2] [ [3] [ [4] [ [5] [ [6] [ [8] [ [1] [ [2] [ [3] [ [4] [ [5] [ [6] [ [8] [ [1] [ [2] [ [3] [ [4] [ [5] [ [6] [ [8] [ [1] [ [2] [ [3] [ [4] [ [5] [ [6] [ [8] [ [1] [ [2] [ [3] [ [4] [ [5] [ [6] [ [8] [ [1] [ [2] [ [3] [ [4] [ [5] [ [6] [ [8] [ [1] [ [2] [ [3] [ [4] [ [5] [ [6] [ [8] [ [1] [ [2] [ [3] [ [4] [ [5] [ [6] [ [8] [ [1] [ [2] [ [3] [ [4] [ [5] [ [6] [ [8] [ [1] [ [2] [ [3] [ [4] [ [5] [ [6] [ [8] [ [1] [ [2] [ [3] [ [4] [ [5] [ [6] [ [8] [ [1] [ [2] [ [3] [ [4] [ [5] [ [6] [ [8] [ [1] [ [2] [ [3] [ [4] [ [5] [ [6] [ [8] [ [1] [ [2] [ [3] [ [4] [ [5] [ [6] [ [8] [ [1] [ [2] [ [3] [ [4] [ [5] [ [6] [ [', 'id_slot': 2, 'stop': True, 'model': '/home/openinference_svc/tests/Meta-Llama-3-8B-Instruct-Q8_0.gguf', 'tokens_predicted': 8183, 'tokens_evaluated': 9, 'generation_settings': {'n_ctx': 2048, 'n_predict': -1, 'model': '/home/openinference_svc/tests/Meta-Llama-3-8B-Instruct-Q8_0.gguf', 'seed': 4294967295, 'temperature': 0.20000000298023224, 'dynatemp_range': 0.0, 'dynatemp_exponent': 1.0, 'top_k': 40, 'top_p': 0.949999988079071, 'min_p': 0.05000000074505806, 'tfs_z': 1.0, 'typical_p': 1.0, 'repeat_last_n': 64, 'repeat_penalty': 1.0, 'presence_penalty': 0.0, 'frequency_penalty': 0.0, 'penalty_prompt_tokens': [], 'use_penalty_prompt_tokens': False, 'mirostat': 0, 'mirostat_tau': 5.0, 'mirostat_eta': 0.10000000149011612, 'penalize_nl': False, 'stop': [], 'n_keep': 0, 'n_discard': 0, 'ignore_eos': False, 'stream': False, 'logit_bias': [], 'n_probs': 0, 'min_keep': 0, 'grammar': '', 'samplers': ['top_k', 'tfs_z', 'typical_p', 'top_p', 'min_p', 'temperature']}, 'prompt': 'List all proteins that interact with RAD51', 'truncated': True, 'stopped_eos': False, 'stopped_word': False, 'stopped_limit': True, 'stopping_word': '', 'tokens_cached': 1030, 'timings': {'prompt_n': 9, 'prompt_ms': 159.772, 'prompt_per_token_ms': 17.752444444444443, 'prompt_per_second': 56.33027063565581, 'predicted_n': 8183, 'predicted_ms': 658422.916, 'predicted_per_token_ms': 80.46228962483197, 'predicted_per_second': 12.428182253607954}, 'response_time': 658.5890848636627}}\n"
     ]
    }
   ],
   "source": [
    "# URL to the inference gateway (needs to end with forward slash /)\n",
    "#url = \"https://data-portal-dev-vmw-01.cels.anl.gov/resource_server/polaris/\"\n",
    "url = \"http://localhost:8000/resource_server/polaris/llama-cpp/completions/\"\n",
    "# Add access token to the headers\n",
    "headers = {\n",
    "    \"Authorization\": f\"Bearer {access_token}\",\n",
    "    \"Content-Type\": \"application/json\"\n",
    "}\n",
    "\n",
    "# Prepare the inference request\n",
    "data = {\n",
    "        \"model\": \"meta-llama-3-8b-instruct\",\n",
    "        \"temperature\": 0.2,\n",
    "        \"prompt\": \"List all proteins that interact with RAD51\"\n",
    "}\n",
    "\n",
    "# Convert data into Json51633660\n",
    "\n",
    "data_json = json.dumps(data)\n",
    "\n",
    "# Send the post request to the relay server\n",
    "# Verify=False is temporary since I use a self-signed certificate\n",
    "response = requests.post(url, data=data_json, headers=headers, verify=False)\n",
    "\n",
    "# Print inference response\n",
    "print(response.status_code)\n",
    "print(response.json())"
   ]
  },
  {
   "cell_type": "code",
   "execution_count": null,
   "id": "7b2a95f3-95a4-4310-991d-9b8a623533e1",
   "metadata": {},
   "outputs": [],
   "source": [
    "# URL to the inference gateway (needs to end with forward slash /)\n",
    "#url = \"https://data-portal-dev-vmw-01.cels.anl.gov/resource_server/polaris/\"\n",
    "url = \"http://localhost:8000/resource_server/polaris/llama-cpp/completions/\"\n",
    "# Add access token to the headers\n",
    "headers = {\n",
    "    \"Authorization\": f\"Bearer {access_token}\",\n",
    "    \"Content-Type\": \"application/json\"\n",
    "}\n",
    "\n",
    "# Prepare the inference request\n",
    "data = {\n",
    "        \"model\": \"mistral-7B-instruct-v03\",\n",
    "        \"temperature\": 0.2,\n",
    "        \"prompt\": \"List all proteins that interact with RAD51\"\n",
    "}\n",
    "\n",
    "# Convert data into Json51633660\n",
    "\n",
    "data_json = json.dumps(data)\n",
    "\n",
    "# Send the post request to the relay server\n",
    "# Verify=False is temporary since I use a self-signed certificate\n",
    "response = requests.post(url, data=data_json, headers=headers, verify=False)\n",
    "\n",
    "# Print inference response\n",
    "print(response.status_code)\n",
    "print(response.json())"
   ]
  },
  {
   "cell_type": "code",
   "execution_count": null,
   "id": "45a38a90",
   "metadata": {},
   "outputs": [],
   "source": [
    "# URL to the inference gateway (needs to end with forward slash /)\n",
    "#url = \"https://data-portal-dev-vmw-01.cels.anl.gov/resource_server/polaris/\"\n",
    "url = \"http://localhost:8000/resource_server/polaris/llama-cpp/completions/\"\n",
    "# Add access token to the headers\n",
    "headers = {\n",
    "    \"Authorization\": f\"Bearer {access_token}\",\n",
    "    \"Content-Type\": \"application/json\"\n",
    "}\n",
    "\n",
    "# Prepare the inference request\n",
    "data = {\n",
    "        \"model\": \"meta-llama-3-70b-instruct\",\n",
    "        \"temperature\": 0.2,\n",
    "        \"prompt\": \"List all proteins that interact with RAD51\"    \n",
    "}\n",
    "\n",
    "# Convert data into Json51633660\n",
    "\n",
    "data_json = json.dumps(data)\n",
    "\n",
    "# Send the post request to the relay server\n",
    "# Verify=False is temporary since I use a self-signed certificate\n",
    "response = requests.post(url, data=data_json, headers=headers, verify=False)\n",
    "\n",
    "# Print inference response\n",
    "print(response.status_code)\n",
    "print(response.json())"
   ]
  }
 ],
 "metadata": {
  "kernelspec": {
   "display_name": "Python3.10-llama-cpp-env",
   "language": "python",
   "name": "llama-cpp-python-env"
  },
  "language_info": {
   "codemirror_mode": {
    "name": "ipython",
    "version": 3
   },
   "file_extension": ".py",
   "mimetype": "text/x-python",
   "name": "python",
   "nbconvert_exporter": "python",
   "pygments_lexer": "ipython3",
   "version": "3.10.12"
  }
 },
 "nbformat": 4,
 "nbformat_minor": 5
}
