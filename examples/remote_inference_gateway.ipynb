{
 "cells": [
  {
   "cell_type": "code",
   "execution_count": 9,
   "id": "69edb282-bbbf-43f5-8234-fabc3a643dbe",
   "metadata": {},
   "outputs": [
    {
     "name": "stdout",
     "output_type": "stream",
     "text": [
      "Please go to this URL and login:\n",
      "\n",
      "https://auth.globus.org/v2/oauth2/authorize?client_id=99bc7f15-ebed-4d6b-b783-8f7ae8735135&redirect_uri=https%3A%2F%2Fauth.globus.org%2Fv2%2Fweb%2Fauth-code&scope=https%3A%2F%2Fauth.globus.org%2Fscopes%2F681c10cc-f684-4540-bcd7-0b4df3bc26ef%2Faction_all&state=_default&response_type=code&code_challenge=ytUoAayTYWPz65DI0heAtjyuTIlKEqvDIGJnLxcKXWs&code_challenge_method=S256&access_type=online\n",
      "\n"
     ]
    }
   ],
   "source": [
    "import globus_sdk\n",
    "import requests\n",
    "import json\n",
    "\n",
    "# Globus ID and Scope\n",
    "# ===================\n",
    "\n",
    "# Define your Globus thick-client ID\n",
    "# https://app.globus.org/settings/developers\n",
    "# This needs to be created by users (they can also re-use one of the existing clients)\n",
    "my_client_id = \"99bc7f15-ebed-4d6b-b783-8f7ae8735135\"\n",
    "\n",
    "# Define the inference-gateway resource service scope\n",
    "# This will be publicly available to users\n",
    "vllm_client_id = \"681c10cc-f684-4540-bcd7-0b4df3bc26ef\"\n",
    "vllm_scope = f\"https://auth.globus.org/scopes/{vllm_client_id}/action_all\"\n",
    "\n",
    "# Authentication and Access Token\n",
    "# ===============================\n",
    "\n",
    "# Start an Auth client with the vLLM scope\n",
    "auth_client = globus_sdk.NativeAppAuthClient(my_client_id)\n",
    "auth_client.oauth2_start_flow(requested_scopes=vllm_scope)\n",
    "\n",
    "# Authenticate with your Globus account\n",
    "authorize_url = auth_client.oauth2_get_authorize_url()\n",
    "print(f\"Please go to this URL and login:\\n\\n{authorize_url}\\n\")\n"
   ]
  },
  {
   "cell_type": "code",
   "execution_count": 10,
   "id": "f22686c5-a281-43aa-b3e9-2abeb7e65df9",
   "metadata": {},
   "outputs": [],
   "source": [
    "# Collect access token to vLLM service\n",
    "auth_code = \"ooxMswLAz8HZhHZY4ZkOpd681uCpfs\"\n",
    "token_response = auth_client.oauth2_exchange_code_for_tokens(auth_code)\n",
    "access_token = token_response.by_resource_server[vllm_client_id][\"access_token\"]"
   ]
  },
  {
   "cell_type": "code",
   "execution_count": 18,
   "id": "343a8729-3f09-49c7-9e25-8730ea270b91",
   "metadata": {},
   "outputs": [
    {
     "name": "stdout",
     "output_type": "stream",
     "text": [
      "200\n",
      "{'server_response': {'content': '\\nRAD51 is a eukaryotic protein involved in homologous recombination. It is a homologue of the bacterial RecA protein and forms a nucleoprotein filament with DNA. It is a DNA-dependent ATPase and is essential for the homologous recombination and repair of DNA. It is required for the repair of DNA double strand breaks in living cells, through homologous recombination. RAD51 protein is a 339-amino acid protein that is required for recombinational repair of DNA damage and maintenance of genomic stability. RAD51 interacts with many proteins, including BRCA1, BRCA2, RAD52, RAD54, RAD54B, RAD55, RAD57, RPA, and DMC1.\\nRAD51 is a protein that is involved in the repair of DNA double-strand breaks. It is a homolog of the bacterial RecA protein and is a member of the RecA/RAD51 family of proteins. RAD51 is a key protein in the homologous recombination pathway, which is a major mechanism for the repair of DNA double-strand breaks. RAD51 is a DNA-dependent ATPase that forms a nucleoprotein filament on single-stranded DNA. This filament is then used to search for homologous sequences in the genome. Once a homologous sequence is found, the RAD51 filament promotes the exchange of strands between the two DNA molecules. This process is known as strand exchange and is the key step in the homologous recombination pathway. RAD51 is also involved in the repair of DNA double-strand breaks by non-homologous end joining. In this pathway, RAD51 is thought to promote the annealing of the two broken DNA ends. RAD51 is a highly conserved protein and is found in all eukaryotes. It is essential for the repair of DNA double-strand breaks and for the maintenance of genomic stability. Mutations in the RAD51 gene have been linked to a variety of human diseases, including cancer, neurodegenerative diseases, and infertility.\\nRAD51 is a protein that is involved in the repair of DNA double-strand breaks. It is a homolog of the bacterial RecA protein and is a member of the RecA/RAD51 family of proteins. RAD51 is a key protein in the homologous recombination pathway, which is a major mechanism for the repair of DNA double-strand breaks. RAD51 is a DNA-dependent ATPase that forms a nucleoprotein filament on single-stranded DNA. This filament is then used to search for homologous sequences in the genome. Once a homologous sequence is found, the RAD51 filament promotes the exchange of strands between the two DNA molecules. This process is known as strand exchange and is the key step in the homologous recombination pathway. RAD51 is also involved in the repair of DNA double-strand breaks by non-homologous end joining. In this pathway, RAD51 is thought to promote the annealing of the broken DNA ends. RAD51 is a highly conserved protein and is found in all eukaryotes. It is essential for the repair of DNA double-strand breaks and for the maintenance of genomic stability. Mutations in the RAD51 gene have been linked to a variety of human diseases, including cancer, neurodegenerative diseases, and infertility.\\nRAD51 is a protein that is involved in the repair of DNA double-strand breaks. It is a homolog of the bacterial RecA protein and is a member of the RecA/RAD51 family of proteins. RAD51 is a key protein in the homologous recombination pathway, which is a major mechanism for the repair of DNA double-strand breaks. RAD51 is a DNA-dependent ATPase that forms a nucleoprotein filament on single-stranded DNA. This filament is then used to search for homologous sequences in the genome. Once a homologous sequence is found, the RAD51 filament promotes the exchange of strands between the two DNA molecules. This process is known as strand exchange and is the key step in the homologous recombination pathway. RAD51 is also involved in the repair of DNA double-strand breaks by non-homologous end joining. In this pathway, RAD51 is thought to promote the annealing of the broken DNA ends. RAD51 is a highly conserved protein and is found in all e\\nLearn more about RAD51\\nLinks to other databases with more information about RAD51\\nYou can also find additional information about RAD51 using the resources on the Exploring the Tree of Life page.\\nPlease cite this page as: Biswas, L., Radivojac, P., Isgro-Tai, I., Fuchs, A., Jakob, U., Sharan, E., Sberro, Gaiti, and Sharan, R. 2016. RAD51. In: F1000Research 2016, 5(F1000 Faculty Rev):284 [ ( is is is. is is (05.\\n F05.\\n is is201 is is00.\\n (0\\n5 (0.0. is. is. is. is. 0. 3. is. is. is ( is. is. (. has ( is ( is ( has. is. is. (................\\n...........', 'id_slot': 1, 'stop': True, 'model': 'meta-llama3-70b-instruct', 'tokens_predicted': 1114, 'tokens_evaluated': 9, 'generation_settings': {'n_ctx': 1024, 'n_predict': -1, 'model': 'meta-llama3-70b-instruct', 'seed': 4294967295, 'temperature': 0.20000000298023224, 'dynatemp_range': 0.0, 'dynatemp_exponent': 1.0, 'top_k': 40, 'top_p': 0.949999988079071, 'min_p': 0.05000000074505806, 'tfs_z': 1.0, 'typical_p': 1.0, 'repeat_last_n': 64, 'repeat_penalty': 1.0, 'presence_penalty': 0.0, 'frequency_penalty': 0.0, 'penalty_prompt_tokens': [], 'use_penalty_prompt_tokens': False, 'mirostat': 0, 'mirostat_tau': 5.0, 'mirostat_eta': 0.10000000149011612, 'penalize_nl': False, 'stop': [], 'n_keep': 0, 'n_discard': 0, 'ignore_eos': False, 'stream': False, 'logit_bias': [], 'n_probs': 0, 'min_keep': 0, 'grammar': '', 'samplers': ['top_k', 'tfs_z', 'typical_p', 'top_p', 'min_p', 'temperature']}, 'prompt': 'List all proteins that interact with RAD51', 'truncated': True, 'stopped_eos': True, 'stopped_word': False, 'stopped_limit': False, 'stopping_word': '', 'tokens_cached': 611, 'timings': {'prompt_n': 9, 'prompt_ms': 1257.706, 'prompt_per_token_ms': 139.7451111111111, 'prompt_per_second': 7.155885397700258, 'predicted_n': 1114, 'predicted_ms': 1251593.044, 'predicted_per_token_ms': 1123.5126068222621, 'predicted_per_second': 0.8900656689811389}, 'response_time': 1252.8535597324371}}\n"
     ]
    }
   ],
   "source": [
    "# URL to the inference gateway (needs to end with forward slash /)\n",
    "#url = \"https://data-portal-dev-vmw-01.cels.anl.gov/resource_server/polaris/\"\n",
    "url = \"http://localhost:8000/resource_server/polaris/llama-cpp/completions/\"\n",
    "# Add access token to the headers\n",
    "headers = {\n",
    "    \"Authorization\": f\"Bearer {access_token}\",\n",
    "    \"Content-Type\": \"application/json\"\n",
    "}\n",
    "\n",
    "# Prepare the inference request\n",
    "data = {\n",
    "        \"model\": \"meta-llama-3-70B-instruct\",\n",
    "        \"temperature\": 0.2,\n",
    "        \"max_tokens\": 150,\n",
    "        \"prompt\": \"List all proteins that interact with RAD51\"    \n",
    "}\n",
    "\n",
    "# Convert data into Json51633660\n",
    "\n",
    "data_json = json.dumps(data)\n",
    "\n",
    "# Send the post request to the relay server\n",
    "# Verify=False is temporary since I use a self-signed certificate\n",
    "response = requests.post(url, data=data_json, headers=headers, verify=False)\n",
    "\n",
    "# Print inference response\n",
    "print(response.status_code)\n",
    "print(response.json())"
   ]
  },
  {
   "cell_type": "code",
   "execution_count": null,
   "id": "7b2a95f3-95a4-4310-991d-9b8a623533e1",
   "metadata": {},
   "outputs": [],
   "source": [
    "# URL to the inference gateway (needs to end with forward slash /)\n",
    "#url = \"https://data-portal-dev-vmw-01.cels.anl.gov/resource_server/polaris/\"\n",
    "url = \"http://localhost:8000/resource_server/polaris/llama-cpp/completions/\"\n",
    "# Add access token to the headers\n",
    "headers = {\n",
    "    \"Authorization\": f\"Bearer {access_token}\",\n",
    "    \"Content-Type\": \"application/json\"\n",
    "}\n",
    "\n",
    "# Prepare the inference request\n",
    "data = {\n",
    "        \"model\": \"mistral-7B-instruct-v0.3\",\n",
    "        \"temperature\": 0.2,\n",
    "        \"max_tokens\": 150,\n",
    "        \"prompt\": \"List all proteins that interact with RAD51\"    \n",
    "}\n",
    "\n",
    "# Convert data into Json51633660\n",
    "\n",
    "data_json = json.dumps(data)\n",
    "\n",
    "# Send the post request to the relay server\n",
    "# Verify=False is temporary since I use a self-signed certificate\n",
    "response = requests.post(url, data=data_json, headers=headers, verify=False)\n",
    "\n",
    "# Print inference response\n",
    "print(response.status_code)\n",
    "print(response.json())"
   ]
  },
  {
   "cell_type": "code",
   "execution_count": null,
   "id": "45a38a90",
   "metadata": {},
   "outputs": [],
   "source": [
    "# URL to the inference gateway (needs to end with forward slash /)\n",
    "#url = \"https://data-portal-dev-vmw-01.cels.anl.gov/resource_server/polaris/\"\n",
    "url = \"http://localhost:8000/resource_server/polaris/llama-cpp/completions/\"\n",
    "# Add access token to the headers\n",
    "headers = {\n",
    "    \"Authorization\": f\"Bearer {access_token}\",\n",
    "    \"Content-Type\": \"application/json\"\n",
    "}\n",
    "\n",
    "# Prepare the inference request\n",
    "data = {\n",
    "        \"model\": \"meta-llama-3-70B-instruct\",\n",
    "        \"temperature\": 0.2,\n",
    "        \"max_tokens\": 150,\n",
    "        \"prompt\": \"List all proteins that interact with RAD51\"    \n",
    "}\n",
    "\n",
    "# Convert data into Json51633660\n",
    "\n",
    "data_json = json.dumps(data)\n",
    "\n",
    "# Send the post request to the relay server\n",
    "# Verify=False is temporary since I use a self-signed certificate\n",
    "response = requests.post(url, data=data_json, headers=headers, verify=False)\n",
    "\n",
    "# Print inference response\n",
    "print(response.status_code)\n",
    "print(response.json())"
   ]
  }
 ],
 "metadata": {
  "kernelspec": {
   "display_name": "Python3.10-llama-cpp-env",
   "language": "python",
   "name": "llama-cpp-python-env"
  },
  "language_info": {
   "codemirror_mode": {
    "name": "ipython",
    "version": 3
   },
   "file_extension": ".py",
   "mimetype": "text/x-python",
   "name": "python",
   "nbconvert_exporter": "python",
   "pygments_lexer": "ipython3",
   "version": "3.10.12"
  }
 },
 "nbformat": 4,
 "nbformat_minor": 5
}
